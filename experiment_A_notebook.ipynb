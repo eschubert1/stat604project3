{
 "cells": [
  {
   "cell_type": "markdown",
   "metadata": {},
   "source": [
    "# Experiment Notebook"
   ]
  },
  {
   "cell_type": "markdown",
   "metadata": {},
   "source": [
    "## Setup\n",
    "Treatment codes \n",
    "* $T1$: Fridge + Water\n",
    "* $T2$: Frdige + No Water\n",
    "* $T3$: No Fridge + Water\n",
    "* $T4$: No Fridge + No Water\n",
    "\n",
    "Plant codes:\n",
    "* $P1$\n",
    "* $P2$\n",
    "* $P3$\n",
    "\n",
    "We recorded the initial weights of the basil stem bunches. We start with 3 pots of Basil, which we label P1, P2 and P3. The healthiest stems from each pot are taken and separated into 4 groups of stems. Using a random number generator, we randomly assign the 4 treatments to the 4 group of stems.In total, this gives us 3 observations for each of the 4 treatments.\n",
    "\n",
    "\n",
    "## Initial Weights\n",
    "$P1-T4$ - 6.0g\n",
    "$P1-T3$ - 5.8g\n",
    "$P1-T1$ - 5.1g\n",
    "$P1-T2$ - 4.3g\n",
    "$P2-T4$ - 3.8g\n",
    "$P2-T2$ - 2.0g\n",
    "$P2-T1$ - 1.8g\n",
    "$P2-T3$ - 3.0g\n",
    "$P3-T1$ - 4.8g\n",
    "$P3-T2$ - 3.8g\n",
    "$P3-T4$ - 3.5g\n",
    "$P3-T3$ - 3.9g\n",
    "\n"
   ]
  },
  {
   "cell_type": "code",
   "execution_count": 2,
   "metadata": {},
   "outputs": [
    {
     "name": "stdout",
     "output_type": "stream",
     "text": [
      "    Plant  Age\n",
      "0   P1-T4  6.0\n",
      "1   P1-T3  5.8\n",
      "2   P1-T1  5.1\n",
      "3   P1-T2  4.3\n",
      "4   P2-T4  3.8\n",
      "5   P2-T2  2.0\n",
      "6   P2-T1  1.8\n",
      "7   P2-T3  3.0\n",
      "8   P3-T1  4.8\n",
      "9   P3-T2  3.8\n",
      "10  P3-T4  3.5\n",
      "11  P3-T3  3.9\n"
     ]
    }
   ],
   "source": [
    "import numpy as np\n",
    "import pandas as pd\n",
    "\n",
    "data = {\n",
    "    'Plant': ['P1-T4', 'P1-T3', 'P1-T1', 'P1-T2','P2-T4','P2-T2','P2-T1','P2-T3','P3-T1','P3-T2','P3-T4','P3-T3'],\n",
    "    'Age': [6.0, 5.8, 5.1, 4.3,3.8,2.0,1.8,3.0,4.8,3.8,3.5,3.9]\n",
    "}\n",
    "\n",
    "df = pd.DataFrame(data)\n",
    "print(df)"
   ]
  }
 ],
 "metadata": {
  "kernelspec": {
   "display_name": "Python 3",
   "language": "python",
   "name": "python3"
  },
  "language_info": {
   "codemirror_mode": {
    "name": "ipython",
    "version": 3
   },
   "file_extension": ".py",
   "mimetype": "text/x-python",
   "name": "python",
   "nbconvert_exporter": "python",
   "pygments_lexer": "ipython3",
   "version": "3.9.6"
  }
 },
 "nbformat": 4,
 "nbformat_minor": 2
}
